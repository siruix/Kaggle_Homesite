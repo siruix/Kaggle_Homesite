{
 "cells": [
  {
   "cell_type": "code",
   "execution_count": 1,
   "metadata": {
    "collapsed": true
   },
   "outputs": [],
   "source": [
    "import pandas as pd\n",
    "from sklearn.linear_model import LogisticRegressionCV\n",
    "from sklearn.cross_validation import train_test_split\n",
    "import numpy as np\n",
    "from sklearn import ensemble\n",
    "from sklearn.metrics import mean_squared_error\n",
    "from matplotlib import pyplot as plt\n",
    "from datetime import datetime\n",
    "from __future__ import print_function"
   ]
  },
  {
   "cell_type": "code",
   "execution_count": 2,
   "metadata": {
    "collapsed": true
   },
   "outputs": [],
   "source": [
    "df = pd.read_csv('train.csv', index_col='QuoteNumber', thousands=',', parse_dates=True)"
   ]
  },
  {
   "cell_type": "code",
   "execution_count": 3,
   "metadata": {
    "collapsed": true
   },
   "outputs": [],
   "source": [
    "# clean data\n",
    "df_clean = df.copy()\n",
    "df_clean['Year'] = pd.to_datetime(df_clean['Original_Quote_Date']).map(lambda x: x.year)\n",
    "df_clean['Month'] = pd.to_datetime(df_clean['Original_Quote_Date']).map(lambda x: x.month)\n",
    "df_clean['Month'] = pd.to_datetime(df_clean['Original_Quote_Date']).map(lambda x: x.day)\n",
    "# remove Original_Quote_Date\n",
    "df_clean.drop('Original_Quote_Date', axis=1, inplace=True)\n",
    "df_clean.drop('PropertyField6', axis=1, inplace=True)\n",
    "df_clean.drop('GeographicField10A', axis=1, inplace=True)"
   ]
  },
  {
   "cell_type": "code",
   "execution_count": 4,
   "metadata": {
    "collapsed": false
   },
   "outputs": [
    {
     "data": {
      "text/html": [
       "<div>\n",
       "<table border=\"1\" class=\"dataframe\">\n",
       "  <thead>\n",
       "    <tr style=\"text-align: right;\">\n",
       "      <th></th>\n",
       "      <th>QuoteConversion_Flag</th>\n",
       "      <th>Field6</th>\n",
       "      <th>Field7</th>\n",
       "      <th>Field8</th>\n",
       "      <th>Field9</th>\n",
       "      <th>Field10</th>\n",
       "      <th>Field11</th>\n",
       "      <th>Field12</th>\n",
       "      <th>CoverageField1A</th>\n",
       "      <th>CoverageField1B</th>\n",
       "      <th>...</th>\n",
       "      <th>GeographicField60A</th>\n",
       "      <th>GeographicField60B</th>\n",
       "      <th>GeographicField61A</th>\n",
       "      <th>GeographicField61B</th>\n",
       "      <th>GeographicField62A</th>\n",
       "      <th>GeographicField62B</th>\n",
       "      <th>GeographicField63</th>\n",
       "      <th>GeographicField64</th>\n",
       "      <th>Year</th>\n",
       "      <th>Month</th>\n",
       "    </tr>\n",
       "    <tr>\n",
       "      <th>QuoteNumber</th>\n",
       "      <th></th>\n",
       "      <th></th>\n",
       "      <th></th>\n",
       "      <th></th>\n",
       "      <th></th>\n",
       "      <th></th>\n",
       "      <th></th>\n",
       "      <th></th>\n",
       "      <th></th>\n",
       "      <th></th>\n",
       "      <th></th>\n",
       "      <th></th>\n",
       "      <th></th>\n",
       "      <th></th>\n",
       "      <th></th>\n",
       "      <th></th>\n",
       "      <th></th>\n",
       "      <th></th>\n",
       "      <th></th>\n",
       "      <th></th>\n",
       "      <th></th>\n",
       "    </tr>\n",
       "  </thead>\n",
       "  <tbody>\n",
       "    <tr>\n",
       "      <th>1</th>\n",
       "      <td>0</td>\n",
       "      <td>B</td>\n",
       "      <td>23</td>\n",
       "      <td>0.9403</td>\n",
       "      <td>0.0006</td>\n",
       "      <td>965</td>\n",
       "      <td>1.0200</td>\n",
       "      <td>N</td>\n",
       "      <td>17</td>\n",
       "      <td>23</td>\n",
       "      <td>...</td>\n",
       "      <td>-1</td>\n",
       "      <td>8</td>\n",
       "      <td>-1</td>\n",
       "      <td>18</td>\n",
       "      <td>-1</td>\n",
       "      <td>10</td>\n",
       "      <td>N</td>\n",
       "      <td>CA</td>\n",
       "      <td>2013</td>\n",
       "      <td>16</td>\n",
       "    </tr>\n",
       "    <tr>\n",
       "      <th>2</th>\n",
       "      <td>0</td>\n",
       "      <td>F</td>\n",
       "      <td>7</td>\n",
       "      <td>1.0006</td>\n",
       "      <td>0.0040</td>\n",
       "      <td>548</td>\n",
       "      <td>1.2433</td>\n",
       "      <td>N</td>\n",
       "      <td>6</td>\n",
       "      <td>8</td>\n",
       "      <td>...</td>\n",
       "      <td>-1</td>\n",
       "      <td>11</td>\n",
       "      <td>-1</td>\n",
       "      <td>17</td>\n",
       "      <td>-1</td>\n",
       "      <td>20</td>\n",
       "      <td>N</td>\n",
       "      <td>NJ</td>\n",
       "      <td>2014</td>\n",
       "      <td>22</td>\n",
       "    </tr>\n",
       "    <tr>\n",
       "      <th>4</th>\n",
       "      <td>0</td>\n",
       "      <td>F</td>\n",
       "      <td>7</td>\n",
       "      <td>1.0006</td>\n",
       "      <td>0.0040</td>\n",
       "      <td>548</td>\n",
       "      <td>1.2433</td>\n",
       "      <td>N</td>\n",
       "      <td>7</td>\n",
       "      <td>12</td>\n",
       "      <td>...</td>\n",
       "      <td>-1</td>\n",
       "      <td>21</td>\n",
       "      <td>-1</td>\n",
       "      <td>11</td>\n",
       "      <td>-1</td>\n",
       "      <td>8</td>\n",
       "      <td>N</td>\n",
       "      <td>NJ</td>\n",
       "      <td>2014</td>\n",
       "      <td>25</td>\n",
       "    </tr>\n",
       "    <tr>\n",
       "      <th>6</th>\n",
       "      <td>0</td>\n",
       "      <td>J</td>\n",
       "      <td>10</td>\n",
       "      <td>0.9769</td>\n",
       "      <td>0.0004</td>\n",
       "      <td>1165</td>\n",
       "      <td>1.2665</td>\n",
       "      <td>N</td>\n",
       "      <td>3</td>\n",
       "      <td>2</td>\n",
       "      <td>...</td>\n",
       "      <td>-1</td>\n",
       "      <td>10</td>\n",
       "      <td>-1</td>\n",
       "      <td>9</td>\n",
       "      <td>-1</td>\n",
       "      <td>21</td>\n",
       "      <td>N</td>\n",
       "      <td>TX</td>\n",
       "      <td>2013</td>\n",
       "      <td>15</td>\n",
       "    </tr>\n",
       "    <tr>\n",
       "      <th>8</th>\n",
       "      <td>0</td>\n",
       "      <td>E</td>\n",
       "      <td>23</td>\n",
       "      <td>0.9472</td>\n",
       "      <td>0.0006</td>\n",
       "      <td>1487</td>\n",
       "      <td>1.3045</td>\n",
       "      <td>N</td>\n",
       "      <td>8</td>\n",
       "      <td>13</td>\n",
       "      <td>...</td>\n",
       "      <td>-1</td>\n",
       "      <td>10</td>\n",
       "      <td>-1</td>\n",
       "      <td>11</td>\n",
       "      <td>-1</td>\n",
       "      <td>12</td>\n",
       "      <td>N</td>\n",
       "      <td>IL</td>\n",
       "      <td>2014</td>\n",
       "      <td>25</td>\n",
       "    </tr>\n",
       "  </tbody>\n",
       "</table>\n",
       "<p>5 rows × 297 columns</p>\n",
       "</div>"
      ],
      "text/plain": [
       "             QuoteConversion_Flag Field6  Field7  Field8  Field9  Field10  \\\n",
       "QuoteNumber                                                                 \n",
       "1                               0      B      23  0.9403  0.0006      965   \n",
       "2                               0      F       7  1.0006  0.0040      548   \n",
       "4                               0      F       7  1.0006  0.0040      548   \n",
       "6                               0      J      10  0.9769  0.0004     1165   \n",
       "8                               0      E      23  0.9472  0.0006     1487   \n",
       "\n",
       "             Field11 Field12  CoverageField1A  CoverageField1B  ...    \\\n",
       "QuoteNumber                                                     ...     \n",
       "1             1.0200       N               17               23  ...     \n",
       "2             1.2433       N                6                8  ...     \n",
       "4             1.2433       N                7               12  ...     \n",
       "6             1.2665       N                3                2  ...     \n",
       "8             1.3045       N                8               13  ...     \n",
       "\n",
       "             GeographicField60A  GeographicField60B  GeographicField61A  \\\n",
       "QuoteNumber                                                               \n",
       "1                            -1                   8                  -1   \n",
       "2                            -1                  11                  -1   \n",
       "4                            -1                  21                  -1   \n",
       "6                            -1                  10                  -1   \n",
       "8                            -1                  10                  -1   \n",
       "\n",
       "             GeographicField61B  GeographicField62A  GeographicField62B  \\\n",
       "QuoteNumber                                                               \n",
       "1                            18                  -1                  10   \n",
       "2                            17                  -1                  20   \n",
       "4                            11                  -1                   8   \n",
       "6                             9                  -1                  21   \n",
       "8                            11                  -1                  12   \n",
       "\n",
       "             GeographicField63  GeographicField64  Year  Month  \n",
       "QuoteNumber                                                     \n",
       "1                            N                 CA  2013     16  \n",
       "2                            N                 NJ  2014     22  \n",
       "4                            N                 NJ  2014     25  \n",
       "6                            N                 TX  2013     15  \n",
       "8                            N                 IL  2014     25  \n",
       "\n",
       "[5 rows x 297 columns]"
      ]
     },
     "execution_count": 4,
     "metadata": {},
     "output_type": "execute_result"
    }
   ],
   "source": [
    "df_clean.head()"
   ]
  },
  {
   "cell_type": "code",
   "execution_count": 5,
   "metadata": {
    "collapsed": true
   },
   "outputs": [],
   "source": [
    "# mapping character to Categorical Data\n",
    "#def char_to_category(x):\n",
    "#    if x.dtype == object:\n",
    "#        return x.astype('category')\n",
    "#    else:\n",
    "#        return x\n",
    "# char_to_category(df_clean['Field6']).dtype\n",
    "#df_clean.apply(char_to_category, axis=1)\n",
    "#df_clean.dtype"
   ]
  },
  {
   "cell_type": "code",
   "execution_count": 6,
   "metadata": {
    "collapsed": true
   },
   "outputs": [],
   "source": [
    "mapping = {}\n",
    "for column in df_clean.loc[:, df_clean.dtypes == object]:\n",
    "    mapping[column] = dict(zip(df_clean[column].unique(),np.arange(len(df_clean[column].unique()))))\n",
    "\n",
    "df_clean.replace(mapping, inplace=True)"
   ]
  },
  {
   "cell_type": "code",
   "execution_count": 7,
   "metadata": {
    "collapsed": true
   },
   "outputs": [],
   "source": [
    "y = df_clean.fillna(-1).iloc[:, 0].values.reshape((df_clean.shape[0]))\n",
    "X = df_clean.fillna(-1).iloc[:, 1:].values"
   ]
  },
  {
   "cell_type": "code",
   "execution_count": 8,
   "metadata": {
    "collapsed": false
   },
   "outputs": [
    {
     "ename": "MemoryError",
     "evalue": "",
     "output_type": "error",
     "traceback": [
      "\u001b[1;31m---------------------------------------------------------------------------\u001b[0m",
      "\u001b[1;31mMemoryError\u001b[0m                               Traceback (most recent call last)",
      "\u001b[1;32m<ipython-input-8-c7fe1c7b30da>\u001b[0m in \u001b[0;36m<module>\u001b[1;34m()\u001b[0m\n\u001b[1;32m----> 1\u001b[1;33m \u001b[0mX_train\u001b[0m\u001b[1;33m,\u001b[0m \u001b[0mX_test\u001b[0m\u001b[1;33m,\u001b[0m \u001b[0my_train\u001b[0m\u001b[1;33m,\u001b[0m \u001b[0my_test\u001b[0m \u001b[1;33m=\u001b[0m \u001b[0mtrain_test_split\u001b[0m\u001b[1;33m(\u001b[0m\u001b[0mX\u001b[0m\u001b[1;33m,\u001b[0m \u001b[0my\u001b[0m\u001b[1;33m,\u001b[0m \u001b[0mtest_size\u001b[0m\u001b[1;33m=\u001b[0m\u001b[1;36m0.2\u001b[0m\u001b[1;33m)\u001b[0m\u001b[1;33m\u001b[0m\u001b[0m\n\u001b[0m",
      "\u001b[1;32m/usr/local/lib/python2.7/dist-packages/sklearn/cross_validation.pyc\u001b[0m in \u001b[0;36mtrain_test_split\u001b[1;34m(*arrays, **options)\u001b[0m\n\u001b[0;32m   1917\u001b[0m     \u001b[0mtrain\u001b[0m\u001b[1;33m,\u001b[0m \u001b[0mtest\u001b[0m \u001b[1;33m=\u001b[0m \u001b[0mnext\u001b[0m\u001b[1;33m(\u001b[0m\u001b[0miter\u001b[0m\u001b[1;33m(\u001b[0m\u001b[0mcv\u001b[0m\u001b[1;33m)\u001b[0m\u001b[1;33m)\u001b[0m\u001b[1;33m\u001b[0m\u001b[0m\n\u001b[0;32m   1918\u001b[0m     return list(chain.from_iterable((safe_indexing(a, train),\n\u001b[1;32m-> 1919\u001b[1;33m                                      safe_indexing(a, test)) for a in arrays))\n\u001b[0m\u001b[0;32m   1920\u001b[0m \u001b[1;33m\u001b[0m\u001b[0m\n\u001b[0;32m   1921\u001b[0m \u001b[1;33m\u001b[0m\u001b[0m\n",
      "\u001b[1;32m/usr/local/lib/python2.7/dist-packages/sklearn/cross_validation.pyc\u001b[0m in \u001b[0;36m<genexpr>\u001b[1;34m((a,))\u001b[0m\n\u001b[0;32m   1917\u001b[0m     \u001b[0mtrain\u001b[0m\u001b[1;33m,\u001b[0m \u001b[0mtest\u001b[0m \u001b[1;33m=\u001b[0m \u001b[0mnext\u001b[0m\u001b[1;33m(\u001b[0m\u001b[0miter\u001b[0m\u001b[1;33m(\u001b[0m\u001b[0mcv\u001b[0m\u001b[1;33m)\u001b[0m\u001b[1;33m)\u001b[0m\u001b[1;33m\u001b[0m\u001b[0m\n\u001b[0;32m   1918\u001b[0m     return list(chain.from_iterable((safe_indexing(a, train),\n\u001b[1;32m-> 1919\u001b[1;33m                                      safe_indexing(a, test)) for a in arrays))\n\u001b[0m\u001b[0;32m   1920\u001b[0m \u001b[1;33m\u001b[0m\u001b[0m\n\u001b[0;32m   1921\u001b[0m \u001b[1;33m\u001b[0m\u001b[0m\n",
      "\u001b[1;32m/usr/local/lib/python2.7/dist-packages/sklearn/utils/__init__.pyc\u001b[0m in \u001b[0;36msafe_indexing\u001b[1;34m(X, indices)\u001b[0m\n\u001b[0;32m    161\u001b[0m                                    indices.dtype.kind == 'i'):\n\u001b[0;32m    162\u001b[0m             \u001b[1;31m# This is often substantially faster than X[indices]\u001b[0m\u001b[1;33m\u001b[0m\u001b[1;33m\u001b[0m\u001b[0m\n\u001b[1;32m--> 163\u001b[1;33m             \u001b[1;32mreturn\u001b[0m \u001b[0mX\u001b[0m\u001b[1;33m.\u001b[0m\u001b[0mtake\u001b[0m\u001b[1;33m(\u001b[0m\u001b[0mindices\u001b[0m\u001b[1;33m,\u001b[0m \u001b[0maxis\u001b[0m\u001b[1;33m=\u001b[0m\u001b[1;36m0\u001b[0m\u001b[1;33m)\u001b[0m\u001b[1;33m\u001b[0m\u001b[0m\n\u001b[0m\u001b[0;32m    164\u001b[0m         \u001b[1;32melse\u001b[0m\u001b[1;33m:\u001b[0m\u001b[1;33m\u001b[0m\u001b[0m\n\u001b[0;32m    165\u001b[0m             \u001b[1;32mreturn\u001b[0m \u001b[0mX\u001b[0m\u001b[1;33m[\u001b[0m\u001b[0mindices\u001b[0m\u001b[1;33m]\u001b[0m\u001b[1;33m\u001b[0m\u001b[0m\n",
      "\u001b[1;31mMemoryError\u001b[0m: "
     ]
    }
   ],
   "source": [
    "X_train, X_test, y_train, y_test = train_test_split(X, y, test_size=0.2)"
   ]
  },
  {
   "cell_type": "code",
   "execution_count": null,
   "metadata": {
    "collapsed": true
   },
   "outputs": [],
   "source": [
    "params = {'n_estimators': 100, 'max_depth': 3, 'min_samples_split': 1, 'learning_rate': 0.1, verbose=1}\n",
    "model = ensemble.GradientBoostingClassifier(**params)"
   ]
  },
  {
   "cell_type": "code",
   "execution_count": null,
   "metadata": {
    "collapsed": false
   },
   "outputs": [],
   "source": [
    "start_time = datetime.now()\n",
    "model.fit(X_train, y_train)\n",
    "end_time = datetime.now()\n",
    "print('Duration: {}'.format(end_time - start_time))"
   ]
  },
  {
   "cell_type": "code",
   "execution_count": null,
   "metadata": {
    "collapsed": true
   },
   "outputs": [],
   "source": [
    "mse_test = mean_squared_error(y_test, model.predict(X_test))\n",
    "mse_train = mean_squared_error(y_train, model.predict(X_train))\n",
    "print(\"MSE_train: %.4f\" % mse_train)\n",
    "print(\"MSE_test: %.4f\" % mse_test)"
   ]
  },
  {
   "cell_type": "code",
   "execution_count": null,
   "metadata": {
    "collapsed": false
   },
   "outputs": [],
   "source": [
    "mse_train"
   ]
  },
  {
   "cell_type": "code",
   "execution_count": null,
   "metadata": {
    "collapsed": false
   },
   "outputs": [],
   "source": [
    "print(\"Train score: %.4f\" % model.score(X_train, y_train))\n",
    "print(\"Test score: %.4f\" % model.score(X_test, y_test))"
   ]
  },
  {
   "cell_type": "code",
   "execution_count": null,
   "metadata": {
    "collapsed": true
   },
   "outputs": [],
   "source": []
  },
  {
   "cell_type": "code",
   "execution_count": null,
   "metadata": {
    "collapsed": false
   },
   "outputs": [],
   "source": [
    "#mse_test = np.array(100)\n",
    "#mse_train = np.array(100)\n",
    "#for i in range(100):\n",
    "#    mse_test[i] = mean_squared_error(y_test, model.staged_predict(X_test))\n",
    "#    mse_train[i] = mean_squared_error(y_train, model.staged_predict(X_train))\n",
    "#plt.plot(np.array(100), mse_train, np.array(100))"
   ]
  },
  {
   "cell_type": "code",
   "execution_count": null,
   "metadata": {
    "collapsed": true
   },
   "outputs": [],
   "source": []
  }
 ],
 "metadata": {
  "kernelspec": {
   "display_name": "Python 2",
   "language": "python",
   "name": "python2"
  },
  "language_info": {
   "codemirror_mode": {
    "name": "ipython",
    "version": 2
   },
   "file_extension": ".py",
   "mimetype": "text/x-python",
   "name": "python",
   "nbconvert_exporter": "python",
   "pygments_lexer": "ipython2",
   "version": "2.7.6"
  }
 },
 "nbformat": 4,
 "nbformat_minor": 0
}
