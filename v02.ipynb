{
 "cells": [
  {
   "cell_type": "code",
   "execution_count": 49,
   "metadata": {
    "collapsed": true
   },
   "outputs": [],
   "source": [
    "import pandas as pd\n",
    "from sklearn.linear_model import LogisticRegressionCV\n",
    "from sklearn.cross_validation import train_test_split\n",
    "import numpy as np\n",
    "from sklearn import ensemble\n",
    "from sklearn.metrics import mean_squared_error\n",
    "from matplotlib import pyplot as plt\n",
    "from datetime import datetime\n",
    "%matplotlib inline\n",
    "from __future__ import print_function"
   ]
  },
  {
   "cell_type": "code",
   "execution_count": 2,
   "metadata": {
    "collapsed": true
   },
   "outputs": [],
   "source": [
    "df = pd.read_csv('train.csv', index_col='QuoteNumber', thousands=',', parse_dates=True)"
   ]
  },
  {
   "cell_type": "code",
   "execution_count": 3,
   "metadata": {
    "collapsed": true
   },
   "outputs": [],
   "source": [
    "# clean data\n",
    "df_clean = df.copy()\n",
    "df_clean['Year'] = pd.to_datetime(df_clean['Original_Quote_Date']).map(lambda x: x.year)\n",
    "df_clean['Month'] = pd.to_datetime(df_clean['Original_Quote_Date']).map(lambda x: x.month)\n",
    "df_clean['Month'] = pd.to_datetime(df_clean['Original_Quote_Date']).map(lambda x: x.day)\n",
    "# remove Original_Quote_Date\n",
    "df_clean.drop('Original_Quote_Date', axis=1, inplace=True)\n",
    "df_clean.drop('PropertyField6', axis=1, inplace=True)\n",
    "df_clean.drop('GeographicField10A', axis=1, inplace=True)"
   ]
  },
  {
   "cell_type": "code",
   "execution_count": 4,
   "metadata": {
    "collapsed": false
   },
   "outputs": [],
   "source": [
    "# df_clean.describe()"
   ]
  },
  {
   "cell_type": "code",
   "execution_count": 5,
   "metadata": {
    "collapsed": true
   },
   "outputs": [],
   "source": [
    "mapping = {}\n",
    "for column in df_clean.loc[:, df_clean.dtypes == object]:\n",
    "    mapping[column] = dict(zip(df_clean[column].unique(),np.arange(len(df_clean[column].unique()))))\n",
    "\n",
    "df_clean.replace(mapping, inplace=True)"
   ]
  },
  {
   "cell_type": "code",
   "execution_count": 6,
   "metadata": {
    "collapsed": true
   },
   "outputs": [],
   "source": [
    "y = df_clean.fillna(-999).iloc[:, 0].values.reshape((df_clean.shape[0]))\n",
    "X = df_clean.fillna(-999).iloc[:, 1:].values"
   ]
  },
  {
   "cell_type": "code",
   "execution_count": 7,
   "metadata": {
    "collapsed": false
   },
   "outputs": [],
   "source": [
    "X_train, X_test, y_train, y_test = train_test_split(X, y, test_size=0.2)"
   ]
  },
  {
   "cell_type": "code",
   "execution_count": 97,
   "metadata": {
    "collapsed": false
   },
   "outputs": [
    {
     "name": "stdout",
     "output_type": "stream",
     "text": [
      "Training with parameters: No shrinkage ...\n",
      "{'warm_start': False, 'n_estimators': 2, 'verbose': 1, 'subsample': 1.0, 'min_samples_split': 1, 'learning_rate': 1.0, 'max_depth': 5}\n",
      "      Iter       Train Loss   Remaining Time \n",
      "         1           0.4996           28.28s\n",
      "         2           0.4233            0.00s\n",
      "Training with parameters: learning_rate=0.1 ...\n",
      "{'warm_start': False, 'n_estimators': 2, 'verbose': 1, 'subsample': 1.0, 'min_samples_split': 1, 'learning_rate': 0.1, 'max_depth': 5}\n",
      "      Iter       Train Loss   Remaining Time \n",
      "         1           0.8613           27.59s\n",
      "         2           0.7947            0.00s\n",
      "Training with parameters: subsample=0.8 ...\n",
      "{'warm_start': False, 'n_estimators': 2, 'verbose': 1, 'subsample': 0.8, 'min_samples_split': 1, 'learning_rate': 1.0, 'max_depth': 5}\n",
      "      Iter       Train Loss      OOB Improve   Remaining Time \n",
      "         1           0.5006           0.4656           24.84s\n",
      "         2           0.4196           0.0790            0.00s\n",
      "Training with parameters: learning_rate=0.1, subsample=1.0 ...\n",
      "{'warm_start': False, 'n_estimators': 2, 'verbose': 1, 'max_features': 0.9, 'subsample': 1, 'min_samples_split': 1, 'learning_rate': 0.1, 'max_depth': 5}\n",
      "      Iter       Train Loss   Remaining Time \n",
      "         1           0.8613           24.32s\n",
      "         2           0.7935            0.00s\n",
      "Training with parameters: learning_rate=0.1, max_features=2 ...\n",
      "{'warm_start': False, 'n_estimators': 2, 'verbose': 1, 'max_features': 2, 'subsample': 1, 'min_samples_split': 1, 'learning_rate': 0.1, 'max_depth': 5}\n",
      "      Iter       Train Loss   Remaining Time \n",
      "         1           0.9582            7.35s\n",
      "         2           0.9471            0.00s\n",
      "Training with parameters: learning_rate=0.1, subsample=0.8 ...\n",
      "{'warm_start': False, 'n_estimators': 2, 'verbose': 1, 'subsample': 0.8, 'min_samples_split': 1, 'learning_rate': 0.1, 'max_depth': 5}\n",
      "      Iter       Train Loss      OOB Improve   Remaining Time \n",
      "         1           0.8616           0.1023           24.30s\n",
      "         2           0.7968           0.0666            0.00s\n"
     ]
    }
   ],
   "source": [
    "original_params = {'n_estimators': 2, 'max_depth': 5, 'min_samples_split': 1, 'subsample':1, 'learning_rate': 0.1, 'warm_start':False, 'verbose':1}\n",
    "train_deviance = np.zeros((6 ,original_params['n_estimators']), dtype=np.float64)\n",
    "test_deviance = np.zeros((6, original_params['n_estimators']), dtype=np.float64)\n",
    "for i, (label, color, setting) in enumerate( [('No shrinkage', 'orange',\n",
    "                               {'learning_rate': 1.0, 'subsample': 1.0}),\n",
    "                              ('learning_rate=0.1', 'turquoise',\n",
    "                               {'learning_rate': 0.1, 'subsample': 1.0}),\n",
    "                              ('subsample=0.8', 'blue',\n",
    "                               {'learning_rate': 1.0, 'subsample': 0.8}),\n",
    "                              ('learning_rate=0.1, subsample=1.0', 'yellow',\n",
    "                               {'learning_rate': 0.1, 'max_features': 0.9}),\n",
    "                              ('learning_rate=0.1, max_features=2', 'magenta',\n",
    "                               {'learning_rate': 0.1, 'max_features': 2}),\n",
    "                              ('learning_rate=0.1, subsample=0.8', 'gray',\n",
    "                               {'learning_rate': 0.1, 'subsample': 0.8}),] ):\n",
    "    params = dict(original_params)\n",
    "    params.update(setting)\n",
    "    model = ensemble.GradientBoostingClassifier(**params)\n",
    "    print(\"Training with parameters: {0} ...\".format(label))\n",
    "    print(params)\n",
    "    model.fit(X_train, y_train)\n",
    "\n",
    "    \n",
    "    train_deviance[i] = model.train_score_\n",
    "    for j, y_pred in enumerate(model.staged_decision_function(X_test)):\n",
    "        # clf.loss_ assumes that y_test[i] in {0, 1}\n",
    "        test_deviance[i][j] = model.loss_(y_test, y_pred)"
   ]
  },
  {
   "cell_type": "code",
   "execution_count": 86,
   "metadata": {
    "collapsed": false
   },
   "outputs": [
    {
     "data": {
      "image/png": "[encoded data removed]",
      "text/plain": [
       "<matplotlib.figure.Figure at 0x139b96b50>"
      ]
     },
     "metadata": {},
     "output_type": "display_data"
    }
   ],
   "source": [
    "plt.figure(figsize=(16, 8))\n",
    "plt.plot(np.arange(1, test_deviance.shape[1]+1), test_deviance[0], color='orange', label='No shrinkage')\n",
    "plt.plot(np.arange(1, test_deviance.shape[1]+1), test_deviance[1], color='turquoise', label='learning_rate=0.1')\n",
    "plt.plot(np.arange(1, test_deviance.shape[1]+1), test_deviance[2], color='blue', label='subsample=0.8')\n",
    "plt.plot(np.arange(1, test_deviance.shape[1]+1), test_deviance[3], color='gray', label='learning_rate=0.1, subsample=0.8')\n",
    "plt.plot(np.arange(1, test_deviance.shape[1]+1), test_deviance[4], color='magenta', label='learning_rate=0.1, max_features=2')\n",
    "# plt.plot(np.arange(train_deviance.shape[0]), train_deviance, color='magenta', label='train')\n",
    "plt.legend(loc='upper left')\n",
    "plt.xlabel('Boosting Iterations')\n",
    "plt.ylabel('Test Set Deviance')\n",
    "plt.show()"
   ]
  },
  {
   "cell_type": "code",
   "execution_count": 87,
   "metadata": {
    "collapsed": true
   },
   "outputs": [],
   "source": [
    "# Save data\n",
    "test_deviance.tofile('test_deviance.dat')"
   ]
  },
  {
   "cell_type": "code",
   "execution_count": 88,
   "metadata": {
    "collapsed": true
   },
   "outputs": [],
   "source": [
    "d = np.fromfile('test_deviance.dat')"
   ]
  },
  {
   "cell_type": "code",
   "execution_count": 94,
   "metadata": {
    "collapsed": false
   },
   "outputs": [
    {
     "data": {
      "text/plain": [
       "(5, 10)"
      ]
     },
     "execution_count": 94,
     "metadata": {},
     "output_type": "execute_result"
    }
   ],
   "source": [
    "test_deviance.shape"
   ]
  },
  {
   "cell_type": "code",
   "execution_count": 95,
   "metadata": {
    "collapsed": false
   },
   "outputs": [
    {
     "data": {
      "text/plain": [
       "array([[ 0.50047302,  0.42496771,  0.39543957,  0.38455953,  0.38211875,\n",
       "         0.37844255,  0.37393   ,  0.37314068,  0.36744257,  0.36573369],\n",
       "       [ 0.86519213,  0.79808941,  0.74655341,  0.70310056,  0.6713088 ,\n",
       "         0.64133766,  0.61714044,  0.59587123,  0.57501175,  0.55883978],\n",
       "       [ 0.5000034 ,  0.42528771,  0.40031124,  0.38590226,  0.37735611,\n",
       "         0.37404868,  0.37138868,  0.37096953,  0.37113325,  0.37074293],\n",
       "       [ 0.86517356,  0.79800204,  0.74621619,  0.70269238,  0.66778748,\n",
       "         0.64032744,  0.61595969,  0.59418406,  0.57566979,  0.55729122],\n",
       "       [ 0.963525  ,  0.94951607,  0.940248  ,  0.93209373,  0.92400828,\n",
       "         0.92049217,  0.91544869,  0.90353817,  0.89154252,  0.88214383]])"
      ]
     },
     "execution_count": 95,
     "metadata": {},
     "output_type": "execute_result"
    }
   ],
   "source": [
    "d.reshape(5,10)"
   ]
  },
  {
   "cell_type": "code",
   "execution_count": null,
   "metadata": {
    "collapsed": true
   },
   "outputs": [],
   "source": []
  }
 ],
 "metadata": {
  "kernelspec": {
   "display_name": "Python 2",
   "language": "python",
   "name": "python2"
  },
  "language_info": {
   "codemirror_mode": {
    "name": "ipython",
    "version": 2
   },
   "file_extension": ".py",
   "mimetype": "text/x-python",
   "name": "python",
   "nbconvert_exporter": "python",
   "pygments_lexer": "ipython2",
   "version": "2.7.5"
  }
 },
 "nbformat": 4,
 "nbformat_minor": 0
}
